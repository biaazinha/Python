{
  "nbformat": 4,
  "nbformat_minor": 0,
  "metadata": {
    "colab": {
      "provenance": [],
      "toc_visible": true,
      "collapsed_sections": [
        "-1eG3SEgmzeV",
        "LPd9w4tNkSXX",
        "c7vocEx6kkic"
      ],
      "authorship_tag": "ABX9TyPpPtW3+DGLcvO2KaQJiDM4",
      "include_colab_link": true
    },
    "kernelspec": {
      "name": "python3",
      "display_name": "Python 3"
    },
    "language_info": {
      "name": "python"
    }
  },
  "cells": [
    {
      "cell_type": "markdown",
      "metadata": {
        "id": "view-in-github",
        "colab_type": "text"
      },
      "source": [
        "<a href=\"https://colab.research.google.com/github/biaazinha/Python/blob/main/1_L%C3%B3gica_de_programa%C3%A7%C3%A3o.ipynb\" target=\"_parent\"><img src=\"https://colab.research.google.com/assets/colab-badge.svg\" alt=\"Open In Colab\"/></a>"
      ]
    },
    {
      "cell_type": "markdown",
      "source": [
        "### Lógica de programação\n"
      ],
      "metadata": {
        "id": "-1eG3SEgmzeV"
      }
    },
    {
      "cell_type": "code",
      "source": [
        "def saudacao():\n",
        "  nome = input('Qual seu nome? ')\n",
        "  print(f'Olá, {nome}')"
      ],
      "metadata": {
        "id": "oryoTkPLqpSn"
      },
      "execution_count": null,
      "outputs": []
    },
    {
      "cell_type": "code",
      "source": [
        "saudacao()"
      ],
      "metadata": {
        "colab": {
          "base_uri": "https://localhost:8080/"
        },
        "id": "7kqTe2bKqtn6",
        "outputId": "1da8e4a5-6cc7-4ed9-eb6f-9a54b46363e7"
      },
      "execution_count": null,
      "outputs": [
        {
          "output_type": "stream",
          "name": "stdout",
          "text": [
            "Qual seu nome? Bia\n",
            "Olá, Bia\n"
          ]
        }
      ]
    },
    {
      "cell_type": "markdown",
      "source": [
        "Exemplo"
      ],
      "metadata": {
        "id": "jUgMjd4XfkIN"
      }
    },
    {
      "cell_type": "code",
      "source": [
        "def nome_completo():\n",
        " primeiro_nome = input('Qual seu primeiro nome? ')\n",
        " sobrenome = input('Qual seu sobrenome? ')\n",
        " nome_inteiro = primeiro_nome + ' ' + sobrenome\n",
        " print(nome_inteiro)\n",
        "\n",
        "nome_completo()"
      ],
      "metadata": {
        "colab": {
          "base_uri": "https://localhost:8080/"
        },
        "id": "4MDvGFTOfmxd",
        "outputId": "3a627afc-2631-4ef2-d882-16f2709849c0"
      },
      "execution_count": 1,
      "outputs": [
        {
          "output_type": "stream",
          "name": "stdout",
          "text": [
            "Qual seu primeiro nome? bia\n",
            "Qual seu sobrenome? ramos\n",
            "bia ramos\n"
          ]
        }
      ]
    },
    {
      "cell_type": "markdown",
      "source": [
        "# Parametro\n",
        "\n",
        "> Bloco com recuo\n",
        "\n"
      ],
      "metadata": {
        "id": "LPd9w4tNkSXX"
      }
    },
    {
      "cell_type": "code",
      "source": [
        "nome = \"Luiza\"\n",
        "def funcao_com_parametro(nome_da_pessoa):\n",
        "  print(f'Olá {nome_da_pessoa}')"
      ],
      "metadata": {
        "id": "CgZBwFmLkbF6"
      },
      "execution_count": 5,
      "outputs": []
    },
    {
      "cell_type": "code",
      "source": [
        "funcao_com_parametro(nome)"
      ],
      "metadata": {
        "colab": {
          "base_uri": "https://localhost:8080/"
        },
        "id": "zPKxw24tkcjG",
        "outputId": "3f93bc31-a29a-415d-b623-4e0571564b0d"
      },
      "execution_count": 6,
      "outputs": [
        {
          "output_type": "stream",
          "name": "stdout",
          "text": [
            "Olá Luiza\n"
          ]
        }
      ]
    },
    {
      "cell_type": "markdown",
      "source": [
        "# Condicional"
      ],
      "metadata": {
        "id": "c7vocEx6kkic"
      }
    },
    {
      "cell_type": "code",
      "source": [
        "idade = 15\n",
        "\n",
        "def verificaSePodeDirigir(idade):\n",
        "  if idade >= 18:\n",
        "    print('Tem permição para dirigir')\n",
        "  else:\n",
        "    print('Não tem permição para dirigir')\n",
        "\n",
        "verificaSePodeDirigir(idade)"
      ],
      "metadata": {
        "colab": {
          "base_uri": "https://localhost:8080/"
        },
        "id": "DORHyMwnkpfW",
        "outputId": "a763102b-5bf2-40e9-90f7-071aafc188e8"
      },
      "execution_count": 9,
      "outputs": [
        {
          "output_type": "stream",
          "name": "stdout",
          "text": [
            "Não tem permição para dirigir\n"
          ]
        }
      ]
    },
    {
      "cell_type": "markdown",
      "source": [
        "Convertendo tipo para inteiro"
      ],
      "metadata": {
        "id": "2NTON6P8nJuP"
      }
    },
    {
      "cell_type": "code",
      "source": [
        "def verificaSePodeDirigirSemParametros():\n",
        "\n",
        "  idade = input('Qual sua idade? ')\n",
        "  idade = int(idade)\n",
        "\n",
        "  if idade >= 18:\n",
        "    print('Tem permição para dirigir')\n",
        "  else:\n",
        "    print('Não tem permição para dirigir')\n",
        "\n",
        "verificaSePodeDirigirSemParametros()"
      ],
      "metadata": {
        "colab": {
          "base_uri": "https://localhost:8080/"
        },
        "id": "yJ-OUi1Kluw5",
        "outputId": "0dd5eb4a-3d32-421b-bec6-dac3645cf070"
      },
      "execution_count": 16,
      "outputs": [
        {
          "output_type": "stream",
          "name": "stdout",
          "text": [
            "Qual sua idade? 18\n",
            "Tem permição para dirigir\n"
          ]
        }
      ]
    }
  ]
}